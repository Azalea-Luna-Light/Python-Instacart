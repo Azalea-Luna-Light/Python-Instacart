{
 "cells": [
  {
   "cell_type": "markdown",
   "id": "25fbd105",
   "metadata": {},
   "source": [
    "# 01. Importing libaries"
   ]
  },
  {
   "cell_type": "code",
   "execution_count": 1,
   "id": "d5bc6469",
   "metadata": {},
   "outputs": [],
   "source": [
    "#import libraries\n",
    "import pandas as pd\n",
    "import numpy as np\n",
    "import os"
   ]
  },
  {
   "cell_type": "code",
   "execution_count": 3,
   "id": "8bdd0cdb",
   "metadata": {},
   "outputs": [],
   "source": [
    "x = 2"
   ]
  },
  {
   "cell_type": "markdown",
   "id": "71825e14",
   "metadata": {},
   "source": [
    "# 02. Data types"
   ]
  },
  {
   "cell_type": "code",
   "execution_count": 4,
   "id": "d0889064",
   "metadata": {},
   "outputs": [
    {
     "data": {
      "text/plain": [
       "2"
      ]
     },
     "execution_count": 4,
     "metadata": {},
     "output_type": "execute_result"
    }
   ],
   "source": [
    "x"
   ]
  },
  {
   "cell_type": "code",
   "execution_count": 5,
   "id": "4da30f2c",
   "metadata": {},
   "outputs": [
    {
     "name": "stdout",
     "output_type": "stream",
     "text": [
      "2\n"
     ]
    }
   ],
   "source": [
    "print(x)"
   ]
  },
  {
   "cell_type": "code",
   "execution_count": 6,
   "id": "7226efef",
   "metadata": {},
   "outputs": [
    {
     "data": {
      "text/plain": [
       "int"
      ]
     },
     "execution_count": 6,
     "metadata": {},
     "output_type": "execute_result"
    }
   ],
   "source": [
    "type(x)"
   ]
  },
  {
   "cell_type": "code",
   "execution_count": 7,
   "id": "cea9809d",
   "metadata": {},
   "outputs": [],
   "source": [
    "y = 5.678"
   ]
  },
  {
   "cell_type": "code",
   "execution_count": 8,
   "id": "a1ef7286",
   "metadata": {},
   "outputs": [
    {
     "data": {
      "text/plain": [
       "float"
      ]
     },
     "execution_count": 8,
     "metadata": {},
     "output_type": "execute_result"
    }
   ],
   "source": [
    "type(y)"
   ]
  },
  {
   "cell_type": "code",
   "execution_count": 9,
   "id": "76bbee36",
   "metadata": {},
   "outputs": [],
   "source": [
    "z = 'Brazil'"
   ]
  },
  {
   "cell_type": "code",
   "execution_count": 10,
   "id": "a8c1f0c8",
   "metadata": {},
   "outputs": [
    {
     "data": {
      "text/plain": [
       "str"
      ]
     },
     "execution_count": 10,
     "metadata": {},
     "output_type": "execute_result"
    }
   ],
   "source": [
    "type(z)"
   ]
  },
  {
   "cell_type": "code",
   "execution_count": 11,
   "id": "5adc9332",
   "metadata": {},
   "outputs": [
    {
     "data": {
      "text/plain": [
       "bool"
      ]
     },
     "execution_count": 11,
     "metadata": {},
     "output_type": "execute_result"
    }
   ],
   "source": [
    "type(True)"
   ]
  },
  {
   "cell_type": "code",
   "execution_count": 12,
   "id": "dacdca65",
   "metadata": {},
   "outputs": [
    {
     "data": {
      "text/plain": [
       "bool"
      ]
     },
     "execution_count": 12,
     "metadata": {},
     "output_type": "execute_result"
    }
   ],
   "source": [
    "type(False)"
   ]
  },
  {
   "cell_type": "code",
   "execution_count": 13,
   "id": "251f79de",
   "metadata": {},
   "outputs": [
    {
     "name": "stdout",
     "output_type": "stream",
     "text": [
      "2\n"
     ]
    }
   ],
   "source": [
    "print(x)"
   ]
  },
  {
   "cell_type": "code",
   "execution_count": 14,
   "id": "3960f482",
   "metadata": {},
   "outputs": [
    {
     "data": {
      "text/plain": [
       "6"
      ]
     },
     "execution_count": 14,
     "metadata": {},
     "output_type": "execute_result"
    }
   ],
   "source": [
    "x+4"
   ]
  },
  {
   "cell_type": "code",
   "execution_count": 15,
   "id": "1603cd34",
   "metadata": {},
   "outputs": [
    {
     "data": {
      "text/plain": [
       "7.678"
      ]
     },
     "execution_count": 15,
     "metadata": {},
     "output_type": "execute_result"
    }
   ],
   "source": [
    "x + y"
   ]
  },
  {
   "cell_type": "code",
   "execution_count": 16,
   "id": "6169d94b",
   "metadata": {},
   "outputs": [],
   "source": [
    "x = x + 4"
   ]
  },
  {
   "cell_type": "code",
   "execution_count": 18,
   "id": "7576fbd8",
   "metadata": {},
   "outputs": [
    {
     "name": "stdout",
     "output_type": "stream",
     "text": [
      "6\n"
     ]
    }
   ],
   "source": [
    "print(x)"
   ]
  },
  {
   "cell_type": "code",
   "execution_count": 22,
   "id": "4b99a982",
   "metadata": {},
   "outputs": [],
   "source": [
    "a = 'Hello, '"
   ]
  },
  {
   "cell_type": "code",
   "execution_count": 23,
   "id": "1a7b3a73",
   "metadata": {},
   "outputs": [],
   "source": [
    "b = 'sunshine'"
   ]
  },
  {
   "cell_type": "code",
   "execution_count": 24,
   "id": "3f9b79dd",
   "metadata": {},
   "outputs": [
    {
     "data": {
      "text/plain": [
       "'Hello, sunshine'"
      ]
     },
     "execution_count": 24,
     "metadata": {},
     "output_type": "execute_result"
    }
   ],
   "source": [
    "a + b"
   ]
  },
  {
   "cell_type": "code",
   "execution_count": 25,
   "id": "75ae58d1",
   "metadata": {},
   "outputs": [],
   "source": [
    "n = 'potato'"
   ]
  },
  {
   "cell_type": "code",
   "execution_count": 27,
   "id": "e926accd",
   "metadata": {},
   "outputs": [
    {
     "data": {
      "text/plain": [
       "'potatopotatopotatopotatopotatopotatopotatopotatopotatopotatopotatopotato'"
      ]
     },
     "execution_count": 27,
     "metadata": {},
     "output_type": "execute_result"
    }
   ],
   "source": [
    "n * 12"
   ]
  },
  {
   "cell_type": "code",
   "execution_count": 28,
   "id": "a95ec05f",
   "metadata": {},
   "outputs": [
    {
     "data": {
      "text/plain": [
       "False"
      ]
     },
     "execution_count": 28,
     "metadata": {},
     "output_type": "execute_result"
    }
   ],
   "source": [
    "x == y"
   ]
  },
  {
   "cell_type": "code",
   "execution_count": 29,
   "id": "d400737b",
   "metadata": {},
   "outputs": [
    {
     "data": {
      "text/plain": [
       "bool"
      ]
     },
     "execution_count": 29,
     "metadata": {},
     "output_type": "execute_result"
    }
   ],
   "source": [
    "type(x ==y)"
   ]
  },
  {
   "cell_type": "markdown",
   "id": "ed1b96fa",
   "metadata": {},
   "source": [
    "# 3. Task Steps"
   ]
  },
  {
   "cell_type": "code",
   "execution_count": 31,
   "id": "c0ca3357",
   "metadata": {},
   "outputs": [],
   "source": [
    "# 4.7 Code 3 different ways of reaching a result of 100 by adding or subtracting numeric variables.\n",
    "x = 51\n",
    "y = 49"
   ]
  },
  {
   "cell_type": "code",
   "execution_count": 32,
   "id": "df1f974d",
   "metadata": {},
   "outputs": [
    {
     "data": {
      "text/plain": [
       "100"
      ]
     },
     "execution_count": 32,
     "metadata": {},
     "output_type": "execute_result"
    }
   ],
   "source": [
    "x + y"
   ]
  },
  {
   "cell_type": "code",
   "execution_count": 33,
   "id": "03a48446",
   "metadata": {},
   "outputs": [],
   "source": [
    "y = y + 51"
   ]
  },
  {
   "cell_type": "code",
   "execution_count": 34,
   "id": "70077792",
   "metadata": {},
   "outputs": [
    {
     "name": "stdout",
     "output_type": "stream",
     "text": [
      "100\n"
     ]
    }
   ],
   "source": [
    "print(y)"
   ]
  },
  {
   "cell_type": "code",
   "execution_count": 35,
   "id": "60dc1d49",
   "metadata": {},
   "outputs": [],
   "source": [
    "z = 151"
   ]
  },
  {
   "cell_type": "code",
   "execution_count": 36,
   "id": "c2c2b757",
   "metadata": {},
   "outputs": [
    {
     "data": {
      "text/plain": [
       "100"
      ]
     },
     "execution_count": 36,
     "metadata": {},
     "output_type": "execute_result"
    }
   ],
   "source": [
    "z - x"
   ]
  },
  {
   "cell_type": "code",
   "execution_count": 38,
   "id": "79cb6f08",
   "metadata": {},
   "outputs": [],
   "source": [
    "# 4.8 Code 2 floating-point variables and divide them by each other.\n",
    "a = 23.87\n",
    "b = 1.98"
   ]
  },
  {
   "cell_type": "code",
   "execution_count": 39,
   "id": "22dd7047",
   "metadata": {},
   "outputs": [
    {
     "data": {
      "text/plain": [
       "12.055555555555555"
      ]
     },
     "execution_count": 39,
     "metadata": {},
     "output_type": "execute_result"
    }
   ],
   "source": [
    "a/b"
   ]
  },
  {
   "cell_type": "code",
   "execution_count": 40,
   "id": "dd6f2861",
   "metadata": {},
   "outputs": [],
   "source": [
    "# 4.9 Construct a short word made of separate strings (you’ll need to concatenate some strings!).\n",
    "c = 'sun'\n",
    "d = 'shine'"
   ]
  },
  {
   "cell_type": "code",
   "execution_count": 41,
   "id": "2501ab60",
   "metadata": {},
   "outputs": [
    {
     "data": {
      "text/plain": [
       "'sunshine'"
      ]
     },
     "execution_count": 41,
     "metadata": {},
     "output_type": "execute_result"
    }
   ],
   "source": [
    "c+d"
   ]
  },
  {
   "cell_type": "code",
   "execution_count": 43,
   "id": "3fd09e4b",
   "metadata": {},
   "outputs": [],
   "source": [
    "# 4.10 Construct 2 short sentences made of separate strings.\n",
    "e = 'Aloha, '\n",
    "f = 'how are you doing?'"
   ]
  },
  {
   "cell_type": "code",
   "execution_count": 44,
   "id": "fe351a8f",
   "metadata": {},
   "outputs": [
    {
     "data": {
      "text/plain": [
       "'Aloha, how are you doing?'"
      ]
     },
     "execution_count": 44,
     "metadata": {},
     "output_type": "execute_result"
    }
   ],
   "source": [
    "e+f"
   ]
  },
  {
   "cell_type": "code",
   "execution_count": 45,
   "id": "76f4b364",
   "metadata": {},
   "outputs": [],
   "source": [
    "g = 'Dont worry, '\n",
    "h = 'be happy.'"
   ]
  },
  {
   "cell_type": "code",
   "execution_count": 46,
   "id": "892c9e4c",
   "metadata": {},
   "outputs": [
    {
     "data": {
      "text/plain": [
       "'Dont worry, be happy.'"
      ]
     },
     "execution_count": 46,
     "metadata": {},
     "output_type": "execute_result"
    }
   ],
   "source": [
    "g + h"
   ]
  },
  {
   "cell_type": "code",
   "execution_count": 48,
   "id": "0000e63e",
   "metadata": {},
   "outputs": [
    {
     "data": {
      "text/plain": [
       "'Dont worry, be happy.Dont worry, be happy.Dont worry, be happy.Dont worry, be happy.Dont worry, be happy.Dont worry, be happy.Dont worry, be happy.Dont worry, be happy.Dont worry, be happy.Dont worry, be happy.Dont worry, be happy.Dont worry, be happy.Dont worry, be happy.Dont worry, be happy.Dont worry, be happy.Dont worry, be happy.Dont worry, be happy.Dont worry, be happy.Dont worry, be happy.Dont worry, be happy.Dont worry, be happy.Dont worry, be happy.Dont worry, be happy.Dont worry, be happy.Dont worry, be happy.Dont worry, be happy.Dont worry, be happy.Dont worry, be happy.Dont worry, be happy.Dont worry, be happy.Dont worry, be happy.Dont worry, be happy.Dont worry, be happy.Dont worry, be happy.Dont worry, be happy.Dont worry, be happy.Dont worry, be happy.Dont worry, be happy.Dont worry, be happy.Dont worry, be happy.Dont worry, be happy.Dont worry, be happy.Dont worry, be happy.Dont worry, be happy.Dont worry, be happy.Dont worry, be happy.Dont worry, be happy.Dont worry, be happy.Dont worry, be happy.Dont worry, be happy.Dont worry, be happy.Dont worry, be happy.Dont worry, be happy.Dont worry, be happy.Dont worry, be happy.Dont worry, be happy.Dont worry, be happy.Dont worry, be happy.Dont worry, be happy.Dont worry, be happy.Dont worry, be happy.Dont worry, be happy.Dont worry, be happy.Dont worry, be happy.Dont worry, be happy.Dont worry, be happy.Dont worry, be happy.Dont worry, be happy.Dont worry, be happy.Dont worry, be happy.Dont worry, be happy.Dont worry, be happy.Dont worry, be happy.Dont worry, be happy.Dont worry, be happy.Dont worry, be happy.Dont worry, be happy.Dont worry, be happy.Dont worry, be happy.Dont worry, be happy.Dont worry, be happy.Dont worry, be happy.Dont worry, be happy.Dont worry, be happy.Dont worry, be happy.Dont worry, be happy.Dont worry, be happy.Dont worry, be happy.Dont worry, be happy.Dont worry, be happy.Dont worry, be happy.Dont worry, be happy.Dont worry, be happy.Dont worry, be happy.Dont worry, be happy.Dont worry, be happy.Dont worry, be happy.Dont worry, be happy.Dont worry, be happy.Dont worry, be happy.'"
      ]
     },
     "execution_count": 48,
     "metadata": {},
     "output_type": "execute_result"
    }
   ],
   "source": [
    "# Bonus: At the bottom of your file, include a command that makes a string appear 100 times.\n",
    "(g+h)*100"
   ]
  }
 ],
 "metadata": {
  "kernelspec": {
   "display_name": "Python 3 (ipykernel)",
   "language": "python",
   "name": "python3"
  },
  "language_info": {
   "codemirror_mode": {
    "name": "ipython",
    "version": 3
   },
   "file_extension": ".py",
   "mimetype": "text/x-python",
   "name": "python",
   "nbconvert_exporter": "python",
   "pygments_lexer": "ipython3",
   "version": "3.10.9"
  }
 },
 "nbformat": 4,
 "nbformat_minor": 5
}
